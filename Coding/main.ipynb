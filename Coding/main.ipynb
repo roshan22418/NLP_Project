{
 "cells": [
  {
   "cell_type": "code",
   "execution_count": 1,
   "metadata": {},
   "outputs": [
    {
     "name": "stdout",
     "output_type": "stream",
     "text": [
      "Requirement already satisfied: pyarrow in c:\\users\\roshan\\appdata\\local\\programs\\python\\python312\\lib\\site-packages (16.0.0)\n",
      "Requirement already satisfied: numpy>=1.16.6 in c:\\users\\roshan\\appdata\\local\\programs\\python\\python312\\lib\\site-packages (from pyarrow) (1.26.4)\n"
     ]
    }
   ],
   "source": [
    "!pip install pyarrow"
   ]
  },
  {
   "cell_type": "code",
   "execution_count": 5,
   "metadata": {},
   "outputs": [
    {
     "name": "stdout",
     "output_type": "stream",
     "text": [
      "{'input_text': 'T: Hi you how to do it today? [SEP] P: Great. How are you?', 'target_text': \"I'm doing well. Thanks for asking.\"}\n",
      "{'input_text': \"T: Hi you how to do it today? [SEP] P: Great. How are you? [SEP] T: I'm doing well. Thanks for asking.\", 'target_text': \"So you're doing great.\"}\n"
     ]
    }
   ],
   "source": [
    "# Load the Arrow file\n",
    "file_path = r\"C:\\Users\\Roshan\\OneDrive\\Desktop\\NLP\\Project\\NLP_Project\\data\\therapy_train\\data-00000-of-00001.arrow\"\n",
    "\n",
    "from datasets import Dataset\n",
    "\n",
    "dataset = Dataset.from_file(file_path)\n",
    "\n",
    "# Print first two rows\n",
    "print(dataset[0])  # First row\n",
    "print(dataset[1])  # Second row\n"
   ]
  },
  {
   "cell_type": "code",
   "execution_count": null,
   "metadata": {},
   "outputs": [],
   "source": []
  }
 ],
 "metadata": {
  "kernelspec": {
   "display_name": "Python 3",
   "language": "python",
   "name": "python3"
  },
  "language_info": {
   "codemirror_mode": {
    "name": "ipython",
    "version": 3
   },
   "file_extension": ".py",
   "mimetype": "text/x-python",
   "name": "python",
   "nbconvert_exporter": "python",
   "pygments_lexer": "ipython3",
   "version": "3.12.0"
  }
 },
 "nbformat": 4,
 "nbformat_minor": 2
}
